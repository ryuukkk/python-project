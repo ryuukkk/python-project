{
 "cells": [
  {
   "cell_type": "markdown",
   "metadata": {},
   "source": [
    "## Python Final Project\n",
    "### Kartik, Sahil and Manisha"
   ]
  },
  {
   "cell_type": "code",
   "execution_count": 1,
   "metadata": {},
   "outputs": [],
   "source": [
    "import pandas as pd\n",
    "from alpha_vantage.timeseries import TimeSeries\n",
    "import numpy as np\n",
    "import matplotlib.pyplot as plt\n",
    "import seaborn as sns\n",
    "import requests"
   ]
  },
  {
   "cell_type": "markdown",
   "source": [
    "**Loading COVID19 datasets**"
   ],
   "metadata": {
    "collapsed": false
   }
  },
  {
   "cell_type": "code",
   "execution_count": 9,
   "outputs": [],
   "source": [
    "confirmed_cases_url = \"https://raw.githubusercontent.com/CSSEGISandData/COVID-19/master/csse_covid_19_data/csse_covid_19_time_series/time_series_covid19_confirmed_global.csv\"\n",
    "\n",
    "death_cases_url = \"https://raw.githubusercontent.com/CSSEGISandData/COVID-19/master/csse_covid_19_data/csse_covid_19_time_series/time_series_covid19_deaths_global.csv\"\n",
    "\n",
    "cases = pd.read_csv(confirmed_cases_url)\n",
    "deaths = pd.read_csv(death_cases_url)"
   ],
   "metadata": {
    "collapsed": false
   }
  },
  {
   "cell_type": "code",
   "execution_count": 10,
   "outputs": [
    {
     "data": {
      "text/plain": "    Province/State        Country/Region        Lat        Long  1/22/20  \\\n0              NaN           Afghanistan  33.939110   67.709953        0   \n1              NaN               Albania  41.153300   20.168300        0   \n2              NaN               Algeria  28.033900    1.659600        0   \n3              NaN               Andorra  42.506300    1.521800        0   \n4              NaN                Angola -11.202700   17.873900        0   \n..             ...                   ...        ...         ...      ...   \n284            NaN    West Bank and Gaza  31.952200   35.233200        0   \n285            NaN  Winter Olympics 2022  39.904200  116.407400        0   \n286            NaN                 Yemen  15.552727   48.516388        0   \n287            NaN                Zambia -13.133897   27.849332        0   \n288            NaN              Zimbabwe -19.015438   29.154857        0   \n\n     1/23/20  1/24/20  1/25/20  1/26/20  1/27/20  ...  2/28/23  3/1/23  \\\n0          0        0        0        0        0  ...   209322  209340   \n1          0        0        0        0        0  ...   334391  334408   \n2          0        0        0        0        0  ...   271441  271448   \n3          0        0        0        0        0  ...    47866   47875   \n4          0        0        0        0        0  ...   105255  105277   \n..       ...      ...      ...      ...      ...  ...      ...     ...   \n284        0        0        0        0        0  ...   703228  703228   \n285        0        0        0        0        0  ...      535     535   \n286        0        0        0        0        0  ...    11945   11945   \n287        0        0        0        0        0  ...   343012  343012   \n288        0        0        0        0        0  ...   263921  264127   \n\n     3/2/23  3/3/23  3/4/23  3/5/23  3/6/23  3/7/23  3/8/23  3/9/23  \n0    209358  209362  209369  209390  209406  209436  209451  209451  \n1    334408  334427  334427  334427  334427  334427  334443  334457  \n2    271463  271469  271469  271477  271477  271490  271494  271496  \n3     47875   47875   47875   47875   47875   47875   47890   47890  \n4    105277  105277  105277  105277  105277  105277  105288  105288  \n..      ...     ...     ...     ...     ...     ...     ...     ...  \n284  703228  703228  703228  703228  703228  703228  703228  703228  \n285     535     535     535     535     535     535     535     535  \n286   11945   11945   11945   11945   11945   11945   11945   11945  \n287  343079  343079  343079  343135  343135  343135  343135  343135  \n288  264127  264127  264127  264127  264127  264127  264276  264276  \n\n[289 rows x 1147 columns]",
      "text/html": "<div>\n<style scoped>\n    .dataframe tbody tr th:only-of-type {\n        vertical-align: middle;\n    }\n\n    .dataframe tbody tr th {\n        vertical-align: top;\n    }\n\n    .dataframe thead th {\n        text-align: right;\n    }\n</style>\n<table border=\"1\" class=\"dataframe\">\n  <thead>\n    <tr style=\"text-align: right;\">\n      <th></th>\n      <th>Province/State</th>\n      <th>Country/Region</th>\n      <th>Lat</th>\n      <th>Long</th>\n      <th>1/22/20</th>\n      <th>1/23/20</th>\n      <th>1/24/20</th>\n      <th>1/25/20</th>\n      <th>1/26/20</th>\n      <th>1/27/20</th>\n      <th>...</th>\n      <th>2/28/23</th>\n      <th>3/1/23</th>\n      <th>3/2/23</th>\n      <th>3/3/23</th>\n      <th>3/4/23</th>\n      <th>3/5/23</th>\n      <th>3/6/23</th>\n      <th>3/7/23</th>\n      <th>3/8/23</th>\n      <th>3/9/23</th>\n    </tr>\n  </thead>\n  <tbody>\n    <tr>\n      <th>0</th>\n      <td>NaN</td>\n      <td>Afghanistan</td>\n      <td>33.939110</td>\n      <td>67.709953</td>\n      <td>0</td>\n      <td>0</td>\n      <td>0</td>\n      <td>0</td>\n      <td>0</td>\n      <td>0</td>\n      <td>...</td>\n      <td>209322</td>\n      <td>209340</td>\n      <td>209358</td>\n      <td>209362</td>\n      <td>209369</td>\n      <td>209390</td>\n      <td>209406</td>\n      <td>209436</td>\n      <td>209451</td>\n      <td>209451</td>\n    </tr>\n    <tr>\n      <th>1</th>\n      <td>NaN</td>\n      <td>Albania</td>\n      <td>41.153300</td>\n      <td>20.168300</td>\n      <td>0</td>\n      <td>0</td>\n      <td>0</td>\n      <td>0</td>\n      <td>0</td>\n      <td>0</td>\n      <td>...</td>\n      <td>334391</td>\n      <td>334408</td>\n      <td>334408</td>\n      <td>334427</td>\n      <td>334427</td>\n      <td>334427</td>\n      <td>334427</td>\n      <td>334427</td>\n      <td>334443</td>\n      <td>334457</td>\n    </tr>\n    <tr>\n      <th>2</th>\n      <td>NaN</td>\n      <td>Algeria</td>\n      <td>28.033900</td>\n      <td>1.659600</td>\n      <td>0</td>\n      <td>0</td>\n      <td>0</td>\n      <td>0</td>\n      <td>0</td>\n      <td>0</td>\n      <td>...</td>\n      <td>271441</td>\n      <td>271448</td>\n      <td>271463</td>\n      <td>271469</td>\n      <td>271469</td>\n      <td>271477</td>\n      <td>271477</td>\n      <td>271490</td>\n      <td>271494</td>\n      <td>271496</td>\n    </tr>\n    <tr>\n      <th>3</th>\n      <td>NaN</td>\n      <td>Andorra</td>\n      <td>42.506300</td>\n      <td>1.521800</td>\n      <td>0</td>\n      <td>0</td>\n      <td>0</td>\n      <td>0</td>\n      <td>0</td>\n      <td>0</td>\n      <td>...</td>\n      <td>47866</td>\n      <td>47875</td>\n      <td>47875</td>\n      <td>47875</td>\n      <td>47875</td>\n      <td>47875</td>\n      <td>47875</td>\n      <td>47875</td>\n      <td>47890</td>\n      <td>47890</td>\n    </tr>\n    <tr>\n      <th>4</th>\n      <td>NaN</td>\n      <td>Angola</td>\n      <td>-11.202700</td>\n      <td>17.873900</td>\n      <td>0</td>\n      <td>0</td>\n      <td>0</td>\n      <td>0</td>\n      <td>0</td>\n      <td>0</td>\n      <td>...</td>\n      <td>105255</td>\n      <td>105277</td>\n      <td>105277</td>\n      <td>105277</td>\n      <td>105277</td>\n      <td>105277</td>\n      <td>105277</td>\n      <td>105277</td>\n      <td>105288</td>\n      <td>105288</td>\n    </tr>\n    <tr>\n      <th>...</th>\n      <td>...</td>\n      <td>...</td>\n      <td>...</td>\n      <td>...</td>\n      <td>...</td>\n      <td>...</td>\n      <td>...</td>\n      <td>...</td>\n      <td>...</td>\n      <td>...</td>\n      <td>...</td>\n      <td>...</td>\n      <td>...</td>\n      <td>...</td>\n      <td>...</td>\n      <td>...</td>\n      <td>...</td>\n      <td>...</td>\n      <td>...</td>\n      <td>...</td>\n      <td>...</td>\n    </tr>\n    <tr>\n      <th>284</th>\n      <td>NaN</td>\n      <td>West Bank and Gaza</td>\n      <td>31.952200</td>\n      <td>35.233200</td>\n      <td>0</td>\n      <td>0</td>\n      <td>0</td>\n      <td>0</td>\n      <td>0</td>\n      <td>0</td>\n      <td>...</td>\n      <td>703228</td>\n      <td>703228</td>\n      <td>703228</td>\n      <td>703228</td>\n      <td>703228</td>\n      <td>703228</td>\n      <td>703228</td>\n      <td>703228</td>\n      <td>703228</td>\n      <td>703228</td>\n    </tr>\n    <tr>\n      <th>285</th>\n      <td>NaN</td>\n      <td>Winter Olympics 2022</td>\n      <td>39.904200</td>\n      <td>116.407400</td>\n      <td>0</td>\n      <td>0</td>\n      <td>0</td>\n      <td>0</td>\n      <td>0</td>\n      <td>0</td>\n      <td>...</td>\n      <td>535</td>\n      <td>535</td>\n      <td>535</td>\n      <td>535</td>\n      <td>535</td>\n      <td>535</td>\n      <td>535</td>\n      <td>535</td>\n      <td>535</td>\n      <td>535</td>\n    </tr>\n    <tr>\n      <th>286</th>\n      <td>NaN</td>\n      <td>Yemen</td>\n      <td>15.552727</td>\n      <td>48.516388</td>\n      <td>0</td>\n      <td>0</td>\n      <td>0</td>\n      <td>0</td>\n      <td>0</td>\n      <td>0</td>\n      <td>...</td>\n      <td>11945</td>\n      <td>11945</td>\n      <td>11945</td>\n      <td>11945</td>\n      <td>11945</td>\n      <td>11945</td>\n      <td>11945</td>\n      <td>11945</td>\n      <td>11945</td>\n      <td>11945</td>\n    </tr>\n    <tr>\n      <th>287</th>\n      <td>NaN</td>\n      <td>Zambia</td>\n      <td>-13.133897</td>\n      <td>27.849332</td>\n      <td>0</td>\n      <td>0</td>\n      <td>0</td>\n      <td>0</td>\n      <td>0</td>\n      <td>0</td>\n      <td>...</td>\n      <td>343012</td>\n      <td>343012</td>\n      <td>343079</td>\n      <td>343079</td>\n      <td>343079</td>\n      <td>343135</td>\n      <td>343135</td>\n      <td>343135</td>\n      <td>343135</td>\n      <td>343135</td>\n    </tr>\n    <tr>\n      <th>288</th>\n      <td>NaN</td>\n      <td>Zimbabwe</td>\n      <td>-19.015438</td>\n      <td>29.154857</td>\n      <td>0</td>\n      <td>0</td>\n      <td>0</td>\n      <td>0</td>\n      <td>0</td>\n      <td>0</td>\n      <td>...</td>\n      <td>263921</td>\n      <td>264127</td>\n      <td>264127</td>\n      <td>264127</td>\n      <td>264127</td>\n      <td>264127</td>\n      <td>264127</td>\n      <td>264127</td>\n      <td>264276</td>\n      <td>264276</td>\n    </tr>\n  </tbody>\n</table>\n<p>289 rows × 1147 columns</p>\n</div>"
     },
     "execution_count": 10,
     "metadata": {},
     "output_type": "execute_result"
    }
   ],
   "source": [
    "cases"
   ],
   "metadata": {
    "collapsed": false
   }
  },
  {
   "cell_type": "code",
   "execution_count": 11,
   "outputs": [
    {
     "data": {
      "text/plain": "    Province/State        Country/Region        Lat        Long  1/22/20  \\\n0              NaN           Afghanistan  33.939110   67.709953        0   \n1              NaN               Albania  41.153300   20.168300        0   \n2              NaN               Algeria  28.033900    1.659600        0   \n3              NaN               Andorra  42.506300    1.521800        0   \n4              NaN                Angola -11.202700   17.873900        0   \n..             ...                   ...        ...         ...      ...   \n284            NaN    West Bank and Gaza  31.952200   35.233200        0   \n285            NaN  Winter Olympics 2022  39.904200  116.407400        0   \n286            NaN                 Yemen  15.552727   48.516388        0   \n287            NaN                Zambia -13.133897   27.849332        0   \n288            NaN              Zimbabwe -19.015438   29.154857        0   \n\n     1/23/20  1/24/20  1/25/20  1/26/20  1/27/20  ...  2/28/23  3/1/23  \\\n0          0        0        0        0        0  ...     7896    7896   \n1          0        0        0        0        0  ...     3598    3598   \n2          0        0        0        0        0  ...     6881    6881   \n3          0        0        0        0        0  ...      165     165   \n4          0        0        0        0        0  ...     1933    1933   \n..       ...      ...      ...      ...      ...  ...      ...     ...   \n284        0        0        0        0        0  ...     5708    5708   \n285        0        0        0        0        0  ...        0       0   \n286        0        0        0        0        0  ...     2159    2159   \n287        0        0        0        0        0  ...     4057    4057   \n288        0        0        0        0        0  ...     5663    5668   \n\n     3/2/23  3/3/23  3/4/23  3/5/23  3/6/23  3/7/23  3/8/23  3/9/23  \n0      7896    7896    7896    7896    7896    7896    7896    7896  \n1      3598    3598    3598    3598    3598    3598    3598    3598  \n2      6881    6881    6881    6881    6881    6881    6881    6881  \n3       165     165     165     165     165     165     165     165  \n4      1933    1933    1933    1933    1933    1933    1933    1933  \n..      ...     ...     ...     ...     ...     ...     ...     ...  \n284    5708    5708    5708    5708    5708    5708    5708    5708  \n285       0       0       0       0       0       0       0       0  \n286    2159    2159    2159    2159    2159    2159    2159    2159  \n287    4057    4057    4057    4057    4057    4057    4057    4057  \n288    5668    5668    5668    5668    5668    5668    5671    5671  \n\n[289 rows x 1147 columns]",
      "text/html": "<div>\n<style scoped>\n    .dataframe tbody tr th:only-of-type {\n        vertical-align: middle;\n    }\n\n    .dataframe tbody tr th {\n        vertical-align: top;\n    }\n\n    .dataframe thead th {\n        text-align: right;\n    }\n</style>\n<table border=\"1\" class=\"dataframe\">\n  <thead>\n    <tr style=\"text-align: right;\">\n      <th></th>\n      <th>Province/State</th>\n      <th>Country/Region</th>\n      <th>Lat</th>\n      <th>Long</th>\n      <th>1/22/20</th>\n      <th>1/23/20</th>\n      <th>1/24/20</th>\n      <th>1/25/20</th>\n      <th>1/26/20</th>\n      <th>1/27/20</th>\n      <th>...</th>\n      <th>2/28/23</th>\n      <th>3/1/23</th>\n      <th>3/2/23</th>\n      <th>3/3/23</th>\n      <th>3/4/23</th>\n      <th>3/5/23</th>\n      <th>3/6/23</th>\n      <th>3/7/23</th>\n      <th>3/8/23</th>\n      <th>3/9/23</th>\n    </tr>\n  </thead>\n  <tbody>\n    <tr>\n      <th>0</th>\n      <td>NaN</td>\n      <td>Afghanistan</td>\n      <td>33.939110</td>\n      <td>67.709953</td>\n      <td>0</td>\n      <td>0</td>\n      <td>0</td>\n      <td>0</td>\n      <td>0</td>\n      <td>0</td>\n      <td>...</td>\n      <td>7896</td>\n      <td>7896</td>\n      <td>7896</td>\n      <td>7896</td>\n      <td>7896</td>\n      <td>7896</td>\n      <td>7896</td>\n      <td>7896</td>\n      <td>7896</td>\n      <td>7896</td>\n    </tr>\n    <tr>\n      <th>1</th>\n      <td>NaN</td>\n      <td>Albania</td>\n      <td>41.153300</td>\n      <td>20.168300</td>\n      <td>0</td>\n      <td>0</td>\n      <td>0</td>\n      <td>0</td>\n      <td>0</td>\n      <td>0</td>\n      <td>...</td>\n      <td>3598</td>\n      <td>3598</td>\n      <td>3598</td>\n      <td>3598</td>\n      <td>3598</td>\n      <td>3598</td>\n      <td>3598</td>\n      <td>3598</td>\n      <td>3598</td>\n      <td>3598</td>\n    </tr>\n    <tr>\n      <th>2</th>\n      <td>NaN</td>\n      <td>Algeria</td>\n      <td>28.033900</td>\n      <td>1.659600</td>\n      <td>0</td>\n      <td>0</td>\n      <td>0</td>\n      <td>0</td>\n      <td>0</td>\n      <td>0</td>\n      <td>...</td>\n      <td>6881</td>\n      <td>6881</td>\n      <td>6881</td>\n      <td>6881</td>\n      <td>6881</td>\n      <td>6881</td>\n      <td>6881</td>\n      <td>6881</td>\n      <td>6881</td>\n      <td>6881</td>\n    </tr>\n    <tr>\n      <th>3</th>\n      <td>NaN</td>\n      <td>Andorra</td>\n      <td>42.506300</td>\n      <td>1.521800</td>\n      <td>0</td>\n      <td>0</td>\n      <td>0</td>\n      <td>0</td>\n      <td>0</td>\n      <td>0</td>\n      <td>...</td>\n      <td>165</td>\n      <td>165</td>\n      <td>165</td>\n      <td>165</td>\n      <td>165</td>\n      <td>165</td>\n      <td>165</td>\n      <td>165</td>\n      <td>165</td>\n      <td>165</td>\n    </tr>\n    <tr>\n      <th>4</th>\n      <td>NaN</td>\n      <td>Angola</td>\n      <td>-11.202700</td>\n      <td>17.873900</td>\n      <td>0</td>\n      <td>0</td>\n      <td>0</td>\n      <td>0</td>\n      <td>0</td>\n      <td>0</td>\n      <td>...</td>\n      <td>1933</td>\n      <td>1933</td>\n      <td>1933</td>\n      <td>1933</td>\n      <td>1933</td>\n      <td>1933</td>\n      <td>1933</td>\n      <td>1933</td>\n      <td>1933</td>\n      <td>1933</td>\n    </tr>\n    <tr>\n      <th>...</th>\n      <td>...</td>\n      <td>...</td>\n      <td>...</td>\n      <td>...</td>\n      <td>...</td>\n      <td>...</td>\n      <td>...</td>\n      <td>...</td>\n      <td>...</td>\n      <td>...</td>\n      <td>...</td>\n      <td>...</td>\n      <td>...</td>\n      <td>...</td>\n      <td>...</td>\n      <td>...</td>\n      <td>...</td>\n      <td>...</td>\n      <td>...</td>\n      <td>...</td>\n      <td>...</td>\n    </tr>\n    <tr>\n      <th>284</th>\n      <td>NaN</td>\n      <td>West Bank and Gaza</td>\n      <td>31.952200</td>\n      <td>35.233200</td>\n      <td>0</td>\n      <td>0</td>\n      <td>0</td>\n      <td>0</td>\n      <td>0</td>\n      <td>0</td>\n      <td>...</td>\n      <td>5708</td>\n      <td>5708</td>\n      <td>5708</td>\n      <td>5708</td>\n      <td>5708</td>\n      <td>5708</td>\n      <td>5708</td>\n      <td>5708</td>\n      <td>5708</td>\n      <td>5708</td>\n    </tr>\n    <tr>\n      <th>285</th>\n      <td>NaN</td>\n      <td>Winter Olympics 2022</td>\n      <td>39.904200</td>\n      <td>116.407400</td>\n      <td>0</td>\n      <td>0</td>\n      <td>0</td>\n      <td>0</td>\n      <td>0</td>\n      <td>0</td>\n      <td>...</td>\n      <td>0</td>\n      <td>0</td>\n      <td>0</td>\n      <td>0</td>\n      <td>0</td>\n      <td>0</td>\n      <td>0</td>\n      <td>0</td>\n      <td>0</td>\n      <td>0</td>\n    </tr>\n    <tr>\n      <th>286</th>\n      <td>NaN</td>\n      <td>Yemen</td>\n      <td>15.552727</td>\n      <td>48.516388</td>\n      <td>0</td>\n      <td>0</td>\n      <td>0</td>\n      <td>0</td>\n      <td>0</td>\n      <td>0</td>\n      <td>...</td>\n      <td>2159</td>\n      <td>2159</td>\n      <td>2159</td>\n      <td>2159</td>\n      <td>2159</td>\n      <td>2159</td>\n      <td>2159</td>\n      <td>2159</td>\n      <td>2159</td>\n      <td>2159</td>\n    </tr>\n    <tr>\n      <th>287</th>\n      <td>NaN</td>\n      <td>Zambia</td>\n      <td>-13.133897</td>\n      <td>27.849332</td>\n      <td>0</td>\n      <td>0</td>\n      <td>0</td>\n      <td>0</td>\n      <td>0</td>\n      <td>0</td>\n      <td>...</td>\n      <td>4057</td>\n      <td>4057</td>\n      <td>4057</td>\n      <td>4057</td>\n      <td>4057</td>\n      <td>4057</td>\n      <td>4057</td>\n      <td>4057</td>\n      <td>4057</td>\n      <td>4057</td>\n    </tr>\n    <tr>\n      <th>288</th>\n      <td>NaN</td>\n      <td>Zimbabwe</td>\n      <td>-19.015438</td>\n      <td>29.154857</td>\n      <td>0</td>\n      <td>0</td>\n      <td>0</td>\n      <td>0</td>\n      <td>0</td>\n      <td>0</td>\n      <td>...</td>\n      <td>5663</td>\n      <td>5668</td>\n      <td>5668</td>\n      <td>5668</td>\n      <td>5668</td>\n      <td>5668</td>\n      <td>5668</td>\n      <td>5668</td>\n      <td>5671</td>\n      <td>5671</td>\n    </tr>\n  </tbody>\n</table>\n<p>289 rows × 1147 columns</p>\n</div>"
     },
     "execution_count": 11,
     "metadata": {},
     "output_type": "execute_result"
    }
   ],
   "source": [
    "deaths"
   ],
   "metadata": {
    "collapsed": false
   }
  }
 ],
 "metadata": {
  "kernelspec": {
   "display_name": "Python 3 (ipykernel)",
   "language": "python",
   "name": "python3"
  },
  "language_info": {
   "codemirror_mode": {
    "name": "ipython",
    "version": 3
   },
   "file_extension": ".py",
   "mimetype": "text/x-python",
   "name": "python",
   "nbconvert_exporter": "python",
   "pygments_lexer": "ipython3",
   "version": "3.11.1"
  }
 },
 "nbformat": 4,
 "nbformat_minor": 1
}
