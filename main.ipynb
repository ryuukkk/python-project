{
 "cells": [
  {
   "cell_type": "markdown",
   "metadata": {},
   "source": [
    "## Python Final Project\n",
    "### Kartik, Sahil and Manisha"
   ]
  },
  {
   "cell_type": "code",
   "execution_count": 1,
   "metadata": {},
   "outputs": [],
   "source": [
    "import pandas as pd\n",
    "from alpha_vantage.timeseries import TimeSeries\n",
    "import numpy as np\n",
    "import matplotlib.pyplot as plt\n",
    "import seaborn as sns\n",
    "import requests"
   ]
  },
  {
   "cell_type": "markdown",
   "source": [
    "**Loading COVID19 datasets**"
   ],
   "metadata": {
    "collapsed": false
   }
  },
  {
   "cell_type": "code",
   "execution_count": 9,
   "outputs": [],
   "source": [
    "confirmed_cases_url = \"https://raw.githubusercontent.com/CSSEGISandData/COVID-19/master/csse_covid_19_data/csse_covid_19_time_series/time_series_covid19_confirmed_global.csv\"\n",
    "\n",
    "death_cases_url = \"https://raw.githubusercontent.com/CSSEGISandData/COVID-19/master/csse_covid_19_data/csse_covid_19_time_series/time_series_covid19_deaths_global.csv\"\n",
    "\n",
    "cases = pd.read_csv(confirmed_cases_url)\n",
    "deaths = pd.read_csv(death_cases_url)"
   ],
   "metadata": {
    "collapsed": false
   }
  },
  {
   "cell_type": "code",
   "execution_count": 10,
   "outputs": [
    {
     "data": {
      "text/plain": "    Province/State        Country/Region        Lat        Long  1/22/20  \\\n0              NaN           Afghanistan  33.939110   67.709953        0   \n1              NaN               Albania  41.153300   20.168300        0   \n2              NaN               Algeria  28.033900    1.659600        0   \n3              NaN               Andorra  42.506300    1.521800        0   \n4              NaN                Angola -11.202700   17.873900        0   \n..             ...                   ...        ...         ...      ...   \n284            NaN    West Bank and Gaza  31.952200   35.233200        0   \n285            NaN  Winter Olympics 2022  39.904200  116.407400        0   \n286            NaN                 Yemen  15.552727   48.516388        0   \n287            NaN                Zambia -13.133897   27.849332        0   \n288            NaN              Zimbabwe -19.015438   29.154857        0   \n\n     1/23/20  1/24/20  1/25/20  1/26/20  1/27/20  ...  2/28/23  3/1/23  \\\n0          0        0        0        0        0  ...   209322  209340   \n1          0        0        0        0        0  ...   334391  334408   \n2          0        0        0        0        0  ...   271441  271448   \n3          0        0        0        0        0  ...    47866   47875   \n4          0        0        0        0        0  ...   105255  105277   \n..       ...      ...      ...      ...      ...  ...      ...     ...   \n284        0        0        0        0        0  ...   703228  703228   \n285        0        0        0        0        0  ...      535     535   \n286        0        0        0        0        0  ...    11945   11945   \n287        0        0        0        0        0  ...   343012  343012   \n288        0        0        0        0        0  ...   263921  264127   \n\n     3/2/23  3/3/23  3/4/23  3/5/23  3/6/23  3/7/23  3/8/23  3/9/23  \n0    209358  209362  209369  209390  209406  209436  209451  209451  \n1    334408  334427  334427  334427  334427  334427  334443  334457  \n2    271463  271469  271469  271477  271477  271490  271494  271496  \n3     47875   47875   47875   47875   47875   47875   47890   47890  \n4    105277  105277  105277  105277  105277  105277  105288  105288  \n..      ...     ...     ...     ...     ...     ...     ...     ...  \n284  703228  703228  703228  703228  703228  703228  703228  703228  \n285     535     535     535     535     535     535     535     535  \n286   11945   11945   11945   11945   11945   11945   11945   11945  \n287  343079  343079  343079  343135  343135  343135  343135  343135  \n288  264127  264127  264127  264127  264127  264127  264276  264276  \n\n[289 rows x 1147 columns]",
      "text/html": "<div>\n<style scoped>\n    .dataframe tbody tr th:only-of-type {\n        vertical-align: middle;\n    }\n\n    .dataframe tbody tr th {\n        vertical-align: top;\n    }\n\n    .dataframe thead th {\n        text-align: right;\n    }\n</style>\n<table border=\"1\" class=\"dataframe\">\n  <thead>\n    <tr style=\"text-align: right;\">\n      <th></th>\n      <th>Province/State</th>\n      <th>Country/Region</th>\n      <th>Lat</th>\n      <th>Long</th>\n      <th>1/22/20</th>\n      <th>1/23/20</th>\n      <th>1/24/20</th>\n      <th>1/25/20</th>\n      <th>1/26/20</th>\n      <th>1/27/20</th>\n      <th>...</th>\n      <th>2/28/23</th>\n      <th>3/1/23</th>\n      <th>3/2/23</th>\n      <th>3/3/23</th>\n      <th>3/4/23</th>\n      <th>3/5/23</th>\n      <th>3/6/23</th>\n      <th>3/7/23</th>\n      <th>3/8/23</th>\n      <th>3/9/23</th>\n    </tr>\n  </thead>\n  <tbody>\n    <tr>\n      <th>0</th>\n      <td>NaN</td>\n      <td>Afghanistan</td>\n      <td>33.939110</td>\n      <td>67.709953</td>\n      <td>0</td>\n      <td>0</td>\n      <td>0</td>\n      <td>0</td>\n      <td>0</td>\n      <td>0</td>\n      <td>...</td>\n      <td>209322</td>\n      <td>209340</td>\n      <td>209358</td>\n      <td>209362</td>\n      <td>209369</td>\n      <td>209390</td>\n      <td>209406</td>\n      <td>209436</td>\n      <td>209451</td>\n      <td>209451</td>\n    </tr>\n    <tr>\n      <th>1</th>\n      <td>NaN</td>\n      <td>Albania</td>\n      <td>41.153300</td>\n      <td>20.168300</td>\n      <td>0</td>\n      <td>0</td>\n      <td>0</td>\n      <td>0</td>\n      <td>0</td>\n      <td>0</td>\n      <td>...</td>\n      <td>334391</td>\n      <td>334408</td>\n      <td>334408</td>\n      <td>334427</td>\n      <td>334427</td>\n      <td>334427</td>\n      <td>334427</td>\n      <td>334427</td>\n      <td>334443</td>\n      <td>334457</td>\n    </tr>\n    <tr>\n      <th>2</th>\n      <td>NaN</td>\n      <td>Algeria</td>\n      <td>28.033900</td>\n      <td>1.659600</td>\n      <td>0</td>\n      <td>0</td>\n      <td>0</td>\n      <td>0</td>\n      <td>0</td>\n      <td>0</td>\n      <td>...</td>\n      <td>271441</td>\n      <td>271448</td>\n      <td>271463</td>\n      <td>271469</td>\n      <td>271469</td>\n      <td>271477</td>\n      <td>271477</td>\n      <td>271490</td>\n      <td>271494</td>\n      <td>271496</td>\n    </tr>\n    <tr>\n      <th>3</th>\n      <td>NaN</td>\n      <td>Andorra</td>\n      <td>42.506300</td>\n      <td>1.521800</td>\n      <td>0</td>\n      <td>0</td>\n      <td>0</td>\n      <td>0</td>\n      <td>0</td>\n      <td>0</td>\n      <td>...</td>\n      <td>47866</td>\n      <td>47875</td>\n      <td>47875</td>\n      <td>47875</td>\n      <td>47875</td>\n      <td>47875</td>\n      <td>47875</td>\n      <td>47875</td>\n      <td>47890</td>\n      <td>47890</td>\n    </tr>\n    <tr>\n      <th>4</th>\n      <td>NaN</td>\n      <td>Angola</td>\n      <td>-11.202700</td>\n      <td>17.873900</td>\n      <td>0</td>\n      <td>0</td>\n      <td>0</td>\n      <td>0</td>\n      <td>0</td>\n      <td>0</td>\n      <td>...</td>\n      <td>105255</td>\n      <td>105277</td>\n      <td>105277</td>\n      <td>105277</td>\n      <td>105277</td>\n      <td>105277</td>\n      <td>105277</td>\n      <td>105277</td>\n      <td>105288</td>\n      <td>105288</td>\n    </tr>\n    <tr>\n      <th>...</th>\n      <td>...</td>\n      <td>...</td>\n      <td>...</td>\n      <td>...</td>\n      <td>...</td>\n      <td>...</td>\n      <td>...</td>\n      <td>...</td>\n      <td>...</td>\n      <td>...</td>\n      <td>...</td>\n      <td>...</td>\n      <td>...</td>\n      <td>...</td>\n      <td>...</td>\n      <td>...</td>\n      <td>...</td>\n      <td>...</td>\n      <td>...</td>\n      <td>...</td>\n      <td>...</td>\n    </tr>\n    <tr>\n      <th>284</th>\n      <td>NaN</td>\n      <td>West Bank and Gaza</td>\n      <td>31.952200</td>\n      <td>35.233200</td>\n      <td>0</td>\n      <td>0</td>\n      <td>0</td>\n      <td>0</td>\n      <td>0</td>\n      <td>0</td>\n      <td>...</td>\n      <td>703228</td>\n      <td>703228</td>\n      <td>703228</td>\n      <td>703228</td>\n      <td>703228</td>\n      <td>703228</td>\n      <td>703228</td>\n      <td>703228</td>\n      <td>703228</td>\n      <td>703228</td>\n    </tr>\n    <tr>\n      <th>285</th>\n      <td>NaN</td>\n      <td>Winter Olympics 2022</td>\n      <td>39.904200</td>\n      <td>116.407400</td>\n      <td>0</td>\n      <td>0</td>\n      <td>0</td>\n      <td>0</td>\n      <td>0</td>\n      <td>0</td>\n      <td>...</td>\n      <td>535</td>\n      <td>535</td>\n      <td>535</td>\n      <td>535</td>\n      <td>535</td>\n      <td>535</td>\n      <td>535</td>\n      <td>535</td>\n      <td>535</td>\n      <td>535</td>\n    </tr>\n    <tr>\n      <th>286</th>\n      <td>NaN</td>\n      <td>Yemen</td>\n      <td>15.552727</td>\n      <td>48.516388</td>\n      <td>0</td>\n      <td>0</td>\n      <td>0</td>\n      <td>0</td>\n      <td>0</td>\n      <td>0</td>\n      <td>...</td>\n      <td>11945</td>\n      <td>11945</td>\n      <td>11945</td>\n      <td>11945</td>\n      <td>11945</td>\n      <td>11945</td>\n      <td>11945</td>\n      <td>11945</td>\n      <td>11945</td>\n      <td>11945</td>\n    </tr>\n    <tr>\n      <th>287</th>\n      <td>NaN</td>\n      <td>Zambia</td>\n      <td>-13.133897</td>\n      <td>27.849332</td>\n      <td>0</td>\n      <td>0</td>\n      <td>0</td>\n      <td>0</td>\n      <td>0</td>\n      <td>0</td>\n      <td>...</td>\n      <td>343012</td>\n      <td>343012</td>\n      <td>343079</td>\n      <td>343079</td>\n      <td>343079</td>\n      <td>343135</td>\n      <td>343135</td>\n      <td>343135</td>\n      <td>343135</td>\n      <td>343135</td>\n    </tr>\n    <tr>\n      <th>288</th>\n      <td>NaN</td>\n      <td>Zimbabwe</td>\n      <td>-19.015438</td>\n      <td>29.154857</td>\n      <td>0</td>\n      <td>0</td>\n      <td>0</td>\n      <td>0</td>\n      <td>0</td>\n      <td>0</td>\n      <td>...</td>\n      <td>263921</td>\n      <td>264127</td>\n      <td>264127</td>\n      <td>264127</td>\n      <td>264127</td>\n      <td>264127</td>\n      <td>264127</td>\n      <td>264127</td>\n      <td>264276</td>\n      <td>264276</td>\n    </tr>\n  </tbody>\n</table>\n<p>289 rows × 1147 columns</p>\n</div>"
     },
     "execution_count": 10,
     "metadata": {},
     "output_type": "execute_result"
    }
   ],
   "source": [
    "cases"
   ],
   "metadata": {
    "collapsed": false
   }
  },
  {
   "cell_type": "code",
   "execution_count": 11,
   "outputs": [
    {
     "data": {
      "text/plain": "    Province/State        Country/Region        Lat        Long  1/22/20  \\\n0              NaN           Afghanistan  33.939110   67.709953        0   \n1              NaN               Albania  41.153300   20.168300        0   \n2              NaN               Algeria  28.033900    1.659600        0   \n3              NaN               Andorra  42.506300    1.521800        0   \n4              NaN                Angola -11.202700   17.873900        0   \n..             ...                   ...        ...         ...      ...   \n284            NaN    West Bank and Gaza  31.952200   35.233200        0   \n285            NaN  Winter Olympics 2022  39.904200  116.407400        0   \n286            NaN                 Yemen  15.552727   48.516388        0   \n287            NaN                Zambia -13.133897   27.849332        0   \n288            NaN              Zimbabwe -19.015438   29.154857        0   \n\n     1/23/20  1/24/20  1/25/20  1/26/20  1/27/20  ...  2/28/23  3/1/23  \\\n0          0        0        0        0        0  ...     7896    7896   \n1          0        0        0        0        0  ...     3598    3598   \n2          0        0        0        0        0  ...     6881    6881   \n3          0        0        0        0        0  ...      165     165   \n4          0        0        0        0        0  ...     1933    1933   \n..       ...      ...      ...      ...      ...  ...      ...     ...   \n284        0        0        0        0        0  ...     5708    5708   \n285        0        0        0        0        0  ...        0       0   \n286        0        0        0        0        0  ...     2159    2159   \n287        0        0        0        0        0  ...     4057    4057   \n288        0        0        0        0        0  ...     5663    5668   \n\n     3/2/23  3/3/23  3/4/23  3/5/23  3/6/23  3/7/23  3/8/23  3/9/23  \n0      7896    7896    7896    7896    7896    7896    7896    7896  \n1      3598    3598    3598    3598    3598    3598    3598    3598  \n2      6881    6881    6881    6881    6881    6881    6881    6881  \n3       165     165     165     165     165     165     165     165  \n4      1933    1933    1933    1933    1933    1933    1933    1933  \n..      ...     ...     ...     ...     ...     ...     ...     ...  \n284    5708    5708    5708    5708    5708    5708    5708    5708  \n285       0       0       0       0       0       0       0       0  \n286    2159    2159    2159    2159    2159    2159    2159    2159  \n287    4057    4057    4057    4057    4057    4057    4057    4057  \n288    5668    5668    5668    5668    5668    5668    5671    5671  \n\n[289 rows x 1147 columns]",
      "text/html": "<div>\n<style scoped>\n    .dataframe tbody tr th:only-of-type {\n        vertical-align: middle;\n    }\n\n    .dataframe tbody tr th {\n        vertical-align: top;\n    }\n\n    .dataframe thead th {\n        text-align: right;\n    }\n</style>\n<table border=\"1\" class=\"dataframe\">\n  <thead>\n    <tr style=\"text-align: right;\">\n      <th></th>\n      <th>Province/State</th>\n      <th>Country/Region</th>\n      <th>Lat</th>\n      <th>Long</th>\n      <th>1/22/20</th>\n      <th>1/23/20</th>\n      <th>1/24/20</th>\n      <th>1/25/20</th>\n      <th>1/26/20</th>\n      <th>1/27/20</th>\n      <th>...</th>\n      <th>2/28/23</th>\n      <th>3/1/23</th>\n      <th>3/2/23</th>\n      <th>3/3/23</th>\n      <th>3/4/23</th>\n      <th>3/5/23</th>\n      <th>3/6/23</th>\n      <th>3/7/23</th>\n      <th>3/8/23</th>\n      <th>3/9/23</th>\n    </tr>\n  </thead>\n  <tbody>\n    <tr>\n      <th>0</th>\n      <td>NaN</td>\n      <td>Afghanistan</td>\n      <td>33.939110</td>\n      <td>67.709953</td>\n      <td>0</td>\n      <td>0</td>\n      <td>0</td>\n      <td>0</td>\n      <td>0</td>\n      <td>0</td>\n      <td>...</td>\n      <td>7896</td>\n      <td>7896</td>\n      <td>7896</td>\n      <td>7896</td>\n      <td>7896</td>\n      <td>7896</td>\n      <td>7896</td>\n      <td>7896</td>\n      <td>7896</td>\n      <td>7896</td>\n    </tr>\n    <tr>\n      <th>1</th>\n      <td>NaN</td>\n      <td>Albania</td>\n      <td>41.153300</td>\n      <td>20.168300</td>\n      <td>0</td>\n      <td>0</td>\n      <td>0</td>\n      <td>0</td>\n      <td>0</td>\n      <td>0</td>\n      <td>...</td>\n      <td>3598</td>\n      <td>3598</td>\n      <td>3598</td>\n      <td>3598</td>\n      <td>3598</td>\n      <td>3598</td>\n      <td>3598</td>\n      <td>3598</td>\n      <td>3598</td>\n      <td>3598</td>\n    </tr>\n    <tr>\n      <th>2</th>\n      <td>NaN</td>\n      <td>Algeria</td>\n      <td>28.033900</td>\n      <td>1.659600</td>\n      <td>0</td>\n      <td>0</td>\n      <td>0</td>\n      <td>0</td>\n      <td>0</td>\n      <td>0</td>\n      <td>...</td>\n      <td>6881</td>\n      <td>6881</td>\n      <td>6881</td>\n      <td>6881</td>\n      <td>6881</td>\n      <td>6881</td>\n      <td>6881</td>\n      <td>6881</td>\n      <td>6881</td>\n      <td>6881</td>\n    </tr>\n    <tr>\n      <th>3</th>\n      <td>NaN</td>\n      <td>Andorra</td>\n      <td>42.506300</td>\n      <td>1.521800</td>\n      <td>0</td>\n      <td>0</td>\n      <td>0</td>\n      <td>0</td>\n      <td>0</td>\n      <td>0</td>\n      <td>...</td>\n      <td>165</td>\n      <td>165</td>\n      <td>165</td>\n      <td>165</td>\n      <td>165</td>\n      <td>165</td>\n      <td>165</td>\n      <td>165</td>\n      <td>165</td>\n      <td>165</td>\n    </tr>\n    <tr>\n      <th>4</th>\n      <td>NaN</td>\n      <td>Angola</td>\n      <td>-11.202700</td>\n      <td>17.873900</td>\n      <td>0</td>\n      <td>0</td>\n      <td>0</td>\n      <td>0</td>\n      <td>0</td>\n      <td>0</td>\n      <td>...</td>\n      <td>1933</td>\n      <td>1933</td>\n      <td>1933</td>\n      <td>1933</td>\n      <td>1933</td>\n      <td>1933</td>\n      <td>1933</td>\n      <td>1933</td>\n      <td>1933</td>\n      <td>1933</td>\n    </tr>\n    <tr>\n      <th>...</th>\n      <td>...</td>\n      <td>...</td>\n      <td>...</td>\n      <td>...</td>\n      <td>...</td>\n      <td>...</td>\n      <td>...</td>\n      <td>...</td>\n      <td>...</td>\n      <td>...</td>\n      <td>...</td>\n      <td>...</td>\n      <td>...</td>\n      <td>...</td>\n      <td>...</td>\n      <td>...</td>\n      <td>...</td>\n      <td>...</td>\n      <td>...</td>\n      <td>...</td>\n      <td>...</td>\n    </tr>\n    <tr>\n      <th>284</th>\n      <td>NaN</td>\n      <td>West Bank and Gaza</td>\n      <td>31.952200</td>\n      <td>35.233200</td>\n      <td>0</td>\n      <td>0</td>\n      <td>0</td>\n      <td>0</td>\n      <td>0</td>\n      <td>0</td>\n      <td>...</td>\n      <td>5708</td>\n      <td>5708</td>\n      <td>5708</td>\n      <td>5708</td>\n      <td>5708</td>\n      <td>5708</td>\n      <td>5708</td>\n      <td>5708</td>\n      <td>5708</td>\n      <td>5708</td>\n    </tr>\n    <tr>\n      <th>285</th>\n      <td>NaN</td>\n      <td>Winter Olympics 2022</td>\n      <td>39.904200</td>\n      <td>116.407400</td>\n      <td>0</td>\n      <td>0</td>\n      <td>0</td>\n      <td>0</td>\n      <td>0</td>\n      <td>0</td>\n      <td>...</td>\n      <td>0</td>\n      <td>0</td>\n      <td>0</td>\n      <td>0</td>\n      <td>0</td>\n      <td>0</td>\n      <td>0</td>\n      <td>0</td>\n      <td>0</td>\n      <td>0</td>\n    </tr>\n    <tr>\n      <th>286</th>\n      <td>NaN</td>\n      <td>Yemen</td>\n      <td>15.552727</td>\n      <td>48.516388</td>\n      <td>0</td>\n      <td>0</td>\n      <td>0</td>\n      <td>0</td>\n      <td>0</td>\n      <td>0</td>\n      <td>...</td>\n      <td>2159</td>\n      <td>2159</td>\n      <td>2159</td>\n      <td>2159</td>\n      <td>2159</td>\n      <td>2159</td>\n      <td>2159</td>\n      <td>2159</td>\n      <td>2159</td>\n      <td>2159</td>\n    </tr>\n    <tr>\n      <th>287</th>\n      <td>NaN</td>\n      <td>Zambia</td>\n      <td>-13.133897</td>\n      <td>27.849332</td>\n      <td>0</td>\n      <td>0</td>\n      <td>0</td>\n      <td>0</td>\n      <td>0</td>\n      <td>0</td>\n      <td>...</td>\n      <td>4057</td>\n      <td>4057</td>\n      <td>4057</td>\n      <td>4057</td>\n      <td>4057</td>\n      <td>4057</td>\n      <td>4057</td>\n      <td>4057</td>\n      <td>4057</td>\n      <td>4057</td>\n    </tr>\n    <tr>\n      <th>288</th>\n      <td>NaN</td>\n      <td>Zimbabwe</td>\n      <td>-19.015438</td>\n      <td>29.154857</td>\n      <td>0</td>\n      <td>0</td>\n      <td>0</td>\n      <td>0</td>\n      <td>0</td>\n      <td>0</td>\n      <td>...</td>\n      <td>5663</td>\n      <td>5668</td>\n      <td>5668</td>\n      <td>5668</td>\n      <td>5668</td>\n      <td>5668</td>\n      <td>5668</td>\n      <td>5668</td>\n      <td>5671</td>\n      <td>5671</td>\n    </tr>\n  </tbody>\n</table>\n<p>289 rows × 1147 columns</p>\n</div>"
     },
     "execution_count": 11,
     "metadata": {},
     "output_type": "execute_result"
    }
   ],
   "source": [
    "deaths"
   ],
   "metadata": {
    "collapsed": false
   }
  },
  {
   "cell_type": "code",
   "execution_count": 6,
   "outputs": [
    {
     "data": {
      "text/plain": "(198, 198)"
     },
     "execution_count": 6,
     "metadata": {},
     "output_type": "execute_result"
    }
   ],
   "source": [
    "deaths['Province/State'].isna().sum(), cases['Province/State'].isna().sum()"
   ],
   "metadata": {
    "collapsed": false
   }
  },
  {
   "cell_type": "markdown",
   "source": [
    "The ``Province/State`` column does not look very good, with 198 ``NaN`` values out of 289, in both of the dataframes. However, we can not remove those rows altogether as they might be very useful for more specific further analysis.\n",
    "</b>\n",
    "Let us now have a bigger picture of the dataset by aggregating deaths and cases over all countries."
   ],
   "metadata": {
    "collapsed": false
   }
  },
  {
   "cell_type": "code",
   "execution_count": 7,
   "outputs": [
    {
     "data": {
      "text/plain": "        1/22/20  1/23/20  1/24/20  1/25/20  1/26/20  1/27/20  1/28/20  \\\ncases       557      657      944     1437     2120     2929     5580   \ndeaths       17       18       26       42       56       82      131   \n\n        1/29/20  1/30/20  1/31/20  ...    2/28/23     3/1/23     3/2/23  \\\ncases      6169     8237     9927  ...  675322238  675542852  675731911   \ndeaths      133      172      214  ...    6872682    6874463    6876031   \n\n           3/3/23     3/4/23     3/5/23     3/6/23     3/7/23     3/8/23  \\\ncases   675914580  675968775  676024901  676082941  676213378  676392824   \ndeaths    6877325    6877601    6877749    6878115    6879038    6880483   \n\n           3/9/23  \ncases   676570149  \ndeaths    6881802  \n\n[2 rows x 1143 columns]",
      "text/html": "<div>\n<style scoped>\n    .dataframe tbody tr th:only-of-type {\n        vertical-align: middle;\n    }\n\n    .dataframe tbody tr th {\n        vertical-align: top;\n    }\n\n    .dataframe thead th {\n        text-align: right;\n    }\n</style>\n<table border=\"1\" class=\"dataframe\">\n  <thead>\n    <tr style=\"text-align: right;\">\n      <th></th>\n      <th>1/22/20</th>\n      <th>1/23/20</th>\n      <th>1/24/20</th>\n      <th>1/25/20</th>\n      <th>1/26/20</th>\n      <th>1/27/20</th>\n      <th>1/28/20</th>\n      <th>1/29/20</th>\n      <th>1/30/20</th>\n      <th>1/31/20</th>\n      <th>...</th>\n      <th>2/28/23</th>\n      <th>3/1/23</th>\n      <th>3/2/23</th>\n      <th>3/3/23</th>\n      <th>3/4/23</th>\n      <th>3/5/23</th>\n      <th>3/6/23</th>\n      <th>3/7/23</th>\n      <th>3/8/23</th>\n      <th>3/9/23</th>\n    </tr>\n  </thead>\n  <tbody>\n    <tr>\n      <th>cases</th>\n      <td>557</td>\n      <td>657</td>\n      <td>944</td>\n      <td>1437</td>\n      <td>2120</td>\n      <td>2929</td>\n      <td>5580</td>\n      <td>6169</td>\n      <td>8237</td>\n      <td>9927</td>\n      <td>...</td>\n      <td>675322238</td>\n      <td>675542852</td>\n      <td>675731911</td>\n      <td>675914580</td>\n      <td>675968775</td>\n      <td>676024901</td>\n      <td>676082941</td>\n      <td>676213378</td>\n      <td>676392824</td>\n      <td>676570149</td>\n    </tr>\n    <tr>\n      <th>deaths</th>\n      <td>17</td>\n      <td>18</td>\n      <td>26</td>\n      <td>42</td>\n      <td>56</td>\n      <td>82</td>\n      <td>131</td>\n      <td>133</td>\n      <td>172</td>\n      <td>214</td>\n      <td>...</td>\n      <td>6872682</td>\n      <td>6874463</td>\n      <td>6876031</td>\n      <td>6877325</td>\n      <td>6877601</td>\n      <td>6877749</td>\n      <td>6878115</td>\n      <td>6879038</td>\n      <td>6880483</td>\n      <td>6881802</td>\n    </tr>\n  </tbody>\n</table>\n<p>2 rows × 1143 columns</p>\n</div>"
     },
     "execution_count": 7,
     "metadata": {},
     "output_type": "execute_result"
    }
   ],
   "source": [
    "global_summed = pd.DataFrame([cases.iloc[:,4: ].sum(axis=0), deaths.iloc[:,4: ].sum(axis=0)], index=['cases', 'deaths'])\n",
    "global_summed"
   ],
   "metadata": {
    "collapsed": false
   }
  },
  {
   "cell_type": "markdown",
   "source": [
    "The dataset is in what is called the \"wide\" form, let us tidy it up a little for better analysis."
   ],
   "metadata": {
    "collapsed": false
   }
  },
  {
   "cell_type": "code",
   "execution_count": 8,
   "outputs": [
    {
     "data": {
      "text/plain": "                cases   deaths\n2020-01-22        557       17\n2020-01-23        657       18\n2020-01-24        944       26\n2020-01-25       1437       42\n2020-01-26       2120       56\n...               ...      ...\n2023-03-05  676024901  6877749\n2023-03-06  676082941  6878115\n2023-03-07  676213378  6879038\n2023-03-08  676392824  6880483\n2023-03-09  676570149  6881802\n\n[1143 rows x 2 columns]",
      "text/html": "<div>\n<style scoped>\n    .dataframe tbody tr th:only-of-type {\n        vertical-align: middle;\n    }\n\n    .dataframe tbody tr th {\n        vertical-align: top;\n    }\n\n    .dataframe thead th {\n        text-align: right;\n    }\n</style>\n<table border=\"1\" class=\"dataframe\">\n  <thead>\n    <tr style=\"text-align: right;\">\n      <th></th>\n      <th>cases</th>\n      <th>deaths</th>\n    </tr>\n  </thead>\n  <tbody>\n    <tr>\n      <th>2020-01-22</th>\n      <td>557</td>\n      <td>17</td>\n    </tr>\n    <tr>\n      <th>2020-01-23</th>\n      <td>657</td>\n      <td>18</td>\n    </tr>\n    <tr>\n      <th>2020-01-24</th>\n      <td>944</td>\n      <td>26</td>\n    </tr>\n    <tr>\n      <th>2020-01-25</th>\n      <td>1437</td>\n      <td>42</td>\n    </tr>\n    <tr>\n      <th>2020-01-26</th>\n      <td>2120</td>\n      <td>56</td>\n    </tr>\n    <tr>\n      <th>...</th>\n      <td>...</td>\n      <td>...</td>\n    </tr>\n    <tr>\n      <th>2023-03-05</th>\n      <td>676024901</td>\n      <td>6877749</td>\n    </tr>\n    <tr>\n      <th>2023-03-06</th>\n      <td>676082941</td>\n      <td>6878115</td>\n    </tr>\n    <tr>\n      <th>2023-03-07</th>\n      <td>676213378</td>\n      <td>6879038</td>\n    </tr>\n    <tr>\n      <th>2023-03-08</th>\n      <td>676392824</td>\n      <td>6880483</td>\n    </tr>\n    <tr>\n      <th>2023-03-09</th>\n      <td>676570149</td>\n      <td>6881802</td>\n    </tr>\n  </tbody>\n</table>\n<p>1143 rows × 2 columns</p>\n</div>"
     },
     "execution_count": 8,
     "metadata": {},
     "output_type": "execute_result"
    }
   ],
   "source": [
    "covid = global_summed.transpose()\n",
    "covid.index = pd.to_datetime(covid.index)\n",
    "covid"
   ],
   "metadata": {
    "collapsed": false
   }
  },
  {
   "cell_type": "markdown",
   "source": [
    "The dataset looks pretty apt, although minor cleaning might be required which we will carry out once the complete data has been extracted."
   ],
   "metadata": {
    "collapsed": false
   }
  },
  {
   "cell_type": "markdown",
   "source": [
    "**Loading Stocks datasets**\n",
    "\n",
    "Further, we will extract stock market prices for each of these dates, so as to analyse COVID19's effect on these prices. We use the following 5 stock indices for the categories listed in question.\n",
    "1. Overall American Market: **NASDAQ**\n",
    "2. Overall Canadian Market: **Toronto Stock Exchange**\n",
    "3. Travel Sector: **AirBNB** (AlphaVantage did not seem to have an overall index for this sector, so we are using AirBNB for reference)\n",
    "4. Real Estate Sector: **MSCI U.S. REIT Index**\n",
    "5. Precious Metals: **S&P GSCI**"
   ],
   "metadata": {
    "collapsed": false
   }
  },
  {
   "cell_type": "code",
   "execution_count": 63,
   "outputs": [],
   "source": [
    "API_KEY = 'FH3KFFPOMYNI13R9'\n",
    "START_DATE = covid.index[0].strftime('%Y-%m-%d')\n",
    "END_DATE = covid.index[-1].strftime('%Y-%m-%d')\n",
    "url = 'https://www.alphavantage.co/query?function=TIME_SERIES_DAILY_ADJUSTED&symbol={sym}&outputsize=full&apikey={key}&datatype=csv'"
   ],
   "metadata": {
    "collapsed": false
   }
  },
  {
   "cell_type": "code",
   "execution_count": 78,
   "outputs": [],
   "source": [
    "\n",
    "def conv_hi_lo(df):\n",
    "    df.index = pd.to_datetime(df['timestamp'])\n",
    "    return df[(df.index>START_DATE) & (df.index<END_DATE)].loc[:, ['high', 'low']]"
   ],
   "metadata": {
    "collapsed": false
   }
  },
  {
   "cell_type": "code",
   "execution_count": 79,
   "outputs": [],
   "source": [
    "nasdaq_data = conv_hi_lo(pd.read_csv(url.format(key=API_KEY, sym='NDAQ')))\n",
    "tsx_data = conv_hi_lo(pd.read_csv(url.format(key=API_KEY, sym='TSE')))\n",
    "realest_data = conv_hi_lo(pd.read_csv(url.format(key=API_KEY, sym='MSCI')))\n",
    "metals_data = conv_hi_lo(pd.read_csv(url.format(key=API_KEY, sym='S&PGSCI')))\n",
    "travel_data = conv_hi_lo(pd.read_csv(url.format(key=API_KEY, sym='ABNB')))"
   ],
   "metadata": {
    "collapsed": false
   }
  },
  {
   "cell_type": "code",
   "execution_count": 80,
   "outputs": [
    {
     "data": {
      "text/plain": "               high     low\ntimestamp                  \n2023-03-08   55.395   54.82\n2023-03-07   56.215   54.95\n2023-03-06   56.710   55.96\n2023-03-03   56.325   55.80\n2023-03-02   56.110   55.06\n...             ...     ...\n2020-01-29  115.770  109.76\n2020-01-28  111.590  109.80\n2020-01-27  110.280  109.00\n2020-01-24  110.290  109.24\n2020-01-23  109.680  108.48\n\n[787 rows x 2 columns]",
      "text/html": "<div>\n<style scoped>\n    .dataframe tbody tr th:only-of-type {\n        vertical-align: middle;\n    }\n\n    .dataframe tbody tr th {\n        vertical-align: top;\n    }\n\n    .dataframe thead th {\n        text-align: right;\n    }\n</style>\n<table border=\"1\" class=\"dataframe\">\n  <thead>\n    <tr style=\"text-align: right;\">\n      <th></th>\n      <th>high</th>\n      <th>low</th>\n    </tr>\n    <tr>\n      <th>timestamp</th>\n      <th></th>\n      <th></th>\n    </tr>\n  </thead>\n  <tbody>\n    <tr>\n      <th>2023-03-08</th>\n      <td>55.395</td>\n      <td>54.82</td>\n    </tr>\n    <tr>\n      <th>2023-03-07</th>\n      <td>56.215</td>\n      <td>54.95</td>\n    </tr>\n    <tr>\n      <th>2023-03-06</th>\n      <td>56.710</td>\n      <td>55.96</td>\n    </tr>\n    <tr>\n      <th>2023-03-03</th>\n      <td>56.325</td>\n      <td>55.80</td>\n    </tr>\n    <tr>\n      <th>2023-03-02</th>\n      <td>56.110</td>\n      <td>55.06</td>\n    </tr>\n    <tr>\n      <th>...</th>\n      <td>...</td>\n      <td>...</td>\n    </tr>\n    <tr>\n      <th>2020-01-29</th>\n      <td>115.770</td>\n      <td>109.76</td>\n    </tr>\n    <tr>\n      <th>2020-01-28</th>\n      <td>111.590</td>\n      <td>109.80</td>\n    </tr>\n    <tr>\n      <th>2020-01-27</th>\n      <td>110.280</td>\n      <td>109.00</td>\n    </tr>\n    <tr>\n      <th>2020-01-24</th>\n      <td>110.290</td>\n      <td>109.24</td>\n    </tr>\n    <tr>\n      <th>2020-01-23</th>\n      <td>109.680</td>\n      <td>108.48</td>\n    </tr>\n  </tbody>\n</table>\n<p>787 rows × 2 columns</p>\n</div>"
     },
     "execution_count": 80,
     "metadata": {},
     "output_type": "execute_result"
    }
   ],
   "source": [
    "nasdaq_data"
   ],
   "metadata": {
    "collapsed": false
   }
  },
  {
   "cell_type": "markdown",
   "source": [
    "Finally, we have all the stocks datasets with desired columns of daily low and daily high within the date ranges which are in the ``covid`` dataframe.\n",
    "However, there appears to be a minor problem with the ``covid`` dataframe itself, the ``deaths`` and ``cases`` are commulative numbers. We want them to be daily numbers.\n",
    "Let's create new columns for non-commulative stats."
   ],
   "metadata": {
    "collapsed": false
   }
  },
  {
   "cell_type": "code",
   "execution_count": 87,
   "outputs": [
    {
     "data": {
      "text/plain": "            commulative_cases  commulative_deaths     cases  deaths\n2020-01-22                557                  17       0.0     0.0\n2020-01-23                657                  18     100.0     1.0\n2020-01-24                944                  26     287.0     8.0\n2020-01-25               1437                  42     493.0    16.0\n2020-01-26               2120                  56     683.0    14.0\n...                       ...                 ...       ...     ...\n2023-03-05          676024901             6877749   56126.0   148.0\n2023-03-06          676082941             6878115   58040.0   366.0\n2023-03-07          676213378             6879038  130437.0   923.0\n2023-03-08          676392824             6880483  179446.0  1445.0\n2023-03-09          676570149             6881802  177325.0  1319.0\n\n[1143 rows x 4 columns]",
      "text/html": "<div>\n<style scoped>\n    .dataframe tbody tr th:only-of-type {\n        vertical-align: middle;\n    }\n\n    .dataframe tbody tr th {\n        vertical-align: top;\n    }\n\n    .dataframe thead th {\n        text-align: right;\n    }\n</style>\n<table border=\"1\" class=\"dataframe\">\n  <thead>\n    <tr style=\"text-align: right;\">\n      <th></th>\n      <th>commulative_cases</th>\n      <th>commulative_deaths</th>\n      <th>cases</th>\n      <th>deaths</th>\n    </tr>\n  </thead>\n  <tbody>\n    <tr>\n      <th>2020-01-22</th>\n      <td>557</td>\n      <td>17</td>\n      <td>0.0</td>\n      <td>0.0</td>\n    </tr>\n    <tr>\n      <th>2020-01-23</th>\n      <td>657</td>\n      <td>18</td>\n      <td>100.0</td>\n      <td>1.0</td>\n    </tr>\n    <tr>\n      <th>2020-01-24</th>\n      <td>944</td>\n      <td>26</td>\n      <td>287.0</td>\n      <td>8.0</td>\n    </tr>\n    <tr>\n      <th>2020-01-25</th>\n      <td>1437</td>\n      <td>42</td>\n      <td>493.0</td>\n      <td>16.0</td>\n    </tr>\n    <tr>\n      <th>2020-01-26</th>\n      <td>2120</td>\n      <td>56</td>\n      <td>683.0</td>\n      <td>14.0</td>\n    </tr>\n    <tr>\n      <th>...</th>\n      <td>...</td>\n      <td>...</td>\n      <td>...</td>\n      <td>...</td>\n    </tr>\n    <tr>\n      <th>2023-03-05</th>\n      <td>676024901</td>\n      <td>6877749</td>\n      <td>56126.0</td>\n      <td>148.0</td>\n    </tr>\n    <tr>\n      <th>2023-03-06</th>\n      <td>676082941</td>\n      <td>6878115</td>\n      <td>58040.0</td>\n      <td>366.0</td>\n    </tr>\n    <tr>\n      <th>2023-03-07</th>\n      <td>676213378</td>\n      <td>6879038</td>\n      <td>130437.0</td>\n      <td>923.0</td>\n    </tr>\n    <tr>\n      <th>2023-03-08</th>\n      <td>676392824</td>\n      <td>6880483</td>\n      <td>179446.0</td>\n      <td>1445.0</td>\n    </tr>\n    <tr>\n      <th>2023-03-09</th>\n      <td>676570149</td>\n      <td>6881802</td>\n      <td>177325.0</td>\n      <td>1319.0</td>\n    </tr>\n  </tbody>\n</table>\n<p>1143 rows × 4 columns</p>\n</div>"
     },
     "execution_count": 87,
     "metadata": {},
     "output_type": "execute_result"
    }
   ],
   "source": [
    "covid.rename({'deaths':'commulative_deaths', 'cases':'commulative_cases'}, axis=1, inplace=True)\n",
    "covid['cases'], covid['deaths'] = covid['commulative_cases'].diff(), covid['commulative_deaths'].diff()\n",
    "covid = covid.fillna(0)\n",
    "covid"
   ],
   "metadata": {
    "collapsed": false
   }
  },
  {
   "cell_type": "markdown",
   "source": [
    "There appears to be another problem before merging the datasets, there are some dates missing from the datasets extracted from AlphaVantage. The sizes of ``covid`` and stock datasets do not match.\n",
    "We are going to ``reindex()`` the datasets from ``START_DATE`` to ``END_DATE`` and interpolate the missing dates with stocks of previous date"
   ],
   "metadata": {
    "collapsed": false
   }
  },
  {
   "cell_type": "code",
   "execution_count": 100,
   "outputs": [
    {
     "data": {
      "text/plain": "False"
     },
     "execution_count": 100,
     "metadata": {},
     "output_type": "execute_result"
    }
   ],
   "source": [
    "len(nasdaq_data)==len(covid)"
   ],
   "metadata": {
    "collapsed": false
   }
  }
 ],
 "metadata": {
  "kernelspec": {
   "display_name": "Python 3 (ipykernel)",
   "language": "python",
   "name": "python3"
  },
  "language_info": {
   "codemirror_mode": {
    "name": "ipython",
    "version": 3
   },
   "file_extension": ".py",
   "mimetype": "text/x-python",
   "name": "python",
   "nbconvert_exporter": "python",
   "pygments_lexer": "ipython3",
   "version": "3.11.1"
  }
 },
 "nbformat": 4,
 "nbformat_minor": 1
}
